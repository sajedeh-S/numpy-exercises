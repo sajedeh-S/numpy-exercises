{
  "nbformat": 4,
  "nbformat_minor": 0,
  "metadata": {
    "colab": {
      "provenance": [],
      "authorship_tag": "ABX9TyNwCJb6GE5A+jbZvQeQnUn/",
      "include_colab_link": true
    },
    "kernelspec": {
      "name": "python3",
      "display_name": "Python 3"
    },
    "language_info": {
      "name": "python"
    }
  },
  "cells": [
    {
      "cell_type": "markdown",
      "metadata": {
        "id": "view-in-github",
        "colab_type": "text"
      },
      "source": [
        "<a href=\"https://colab.research.google.com/github/sajedeh-S/numpy-exercises/blob/main/Numpy.ipynb\" target=\"_parent\"><img src=\"https://colab.research.google.com/assets/colab-badge.svg\" alt=\"Open In Colab\"/></a>"
      ]
    },
    {
      "cell_type": "code",
      "execution_count": null,
      "metadata": {
        "colab": {
          "base_uri": "https://localhost:8080/"
        },
        "id": "pqZlntYkRpm7",
        "outputId": "e8b95188-8b63-452d-e440-9b93328c1755"
      },
      "outputs": [
        {
          "output_type": "stream",
          "name": "stdout",
          "text": [
            "Arange: [0 2 4 6 8]\n",
            "Linspace: [0.   0.25 0.5  0.75 1.  ]\n"
          ]
        }
      ],
      "source": [
        "\n",
        "import numpy as np\n",
        "arange_array = np.arange(0, 10, 2)  # 0 to 10, step of 2\n",
        "linspace_array = np.linspace(0, 1, 5)  # 5 numbers between 0 and 1\n",
        "print(\"Arange:\", arange_array)\n",
        "print(\"Linspace:\", linspace_array)\n"
      ]
    },
    {
      "cell_type": "code",
      "source": [
        "arr = np.array([[1, 2, 3], [4, 5, 6]])\n",
        "\n",
        "print(\"Shape:\", arr.shape)    # (rows, columns)\n",
        "print(\"Size:\", arr.size)      # Total number of elements\n",
        "print(\"Dtype:\", arr.dtype)    # Data type of elements\n",
        "print(\"Ndim:\", arr.ndim)      # Number of dimensions\n"
      ],
      "metadata": {
        "colab": {
          "base_uri": "https://localhost:8080/"
        },
        "id": "xCD8aJiMT-nx",
        "outputId": "86cd367e-c8d0-4075-a584-31b1b5de6029"
      },
      "execution_count": null,
      "outputs": [
        {
          "output_type": "stream",
          "name": "stdout",
          "text": [
            "Shape: (2, 3)\n",
            "Size: 6\n",
            "Dtype: int64\n",
            "Ndim: 2\n"
          ]
        }
      ]
    },
    {
      "cell_type": "code",
      "source": [
        "import numpy as np\n",
        "\n",
        "#arr = np.array([1, 2, 3, 4, 5, 6])\n",
        "r1 = arr.reshape(6)\n",
        "print(\"Original:\\n\", arr)\n",
        "print(\"Reshaped:\\n\", r1)\n",
        "print(arr.reshape((6,)).T)\n",
        "\n",
        "print(arr.reshape((6,)))\n",
        "print(arr.reshape((1,6)))\n",
        "print(arr.reshape((6,1)))\n",
        "\n",
        "print(arr.reshape((3,2)))\n",
        "\n",
        "print(arr.T)\n",
        "\n",
        "print(arr.reshape(-1))"
      ],
      "metadata": {
        "colab": {
          "base_uri": "https://localhost:8080/"
        },
        "id": "6S5B0oV7Ur2K",
        "outputId": "8b13e52d-8ed9-4ec2-b2d7-8bfc1f356541"
      },
      "execution_count": null,
      "outputs": [
        {
          "output_type": "stream",
          "name": "stdout",
          "text": [
            "Original:\n",
            " [[1 2 3]\n",
            " [4 5 6]]\n",
            "Reshaped:\n",
            " [1 2 3 4 5 6]\n",
            "[1 2 3 4 5 6]\n",
            "[1 2 3 4 5 6]\n",
            "[[1 2 3 4 5 6]]\n",
            "[[1]\n",
            " [2]\n",
            " [3]\n",
            " [4]\n",
            " [5]\n",
            " [6]]\n",
            "[[1 2]\n",
            " [3 4]\n",
            " [5 6]]\n",
            "[[1 4]\n",
            " [2 5]\n",
            " [3 6]]\n",
            "[1 2 3 4 5 6]\n"
          ]
        }
      ]
    },
    {
      "cell_type": "code",
      "source": [
        "\n",
        "arr = np.array([[1, 2], [3, 4]])\n",
        "transposed = arr.T\n",
        "print(arr)\n",
        "print(\"Transposed:\\n\", transposed)\n"
      ],
      "metadata": {
        "colab": {
          "base_uri": "https://localhost:8080/"
        },
        "id": "CSNmF-yaXIIZ",
        "outputId": "757d1741-637b-4e96-c353-7c562aa14ff3"
      },
      "execution_count": null,
      "outputs": [
        {
          "output_type": "stream",
          "name": "stdout",
          "text": [
            "[[1 2]\n",
            " [3 4]]\n",
            "Transposed:\n",
            " [[1 3]\n",
            " [2 4]]\n"
          ]
        }
      ]
    },
    {
      "cell_type": "code",
      "source": [
        "import numpy as np\n",
        "\n",
        "arr1 = np.array([1, 2, 3])\n",
        "arr2 = np.array([4, 5, 6])\n",
        "\n",
        "# Addition\n",
        "print(\"Addition:\", arr1 + arr2)\n",
        "\n",
        "# Subtraction\n",
        "print(\"Subtraction:\", arr1 - arr2)\n",
        "\n",
        "# Multiplication\n",
        "print(\"Multiplication:\", arr1 * arr2)\n",
        "\n",
        "# Division\n",
        "print(\"Division:\", arr1 / arr2)\n",
        "\n",
        "\n",
        "arr = np.array([1, 2, 3])\n",
        "print(\"Multiply by 2:\", arr * 2)\n",
        "print(\"Add 5:\", arr + 5)"
      ],
      "metadata": {
        "colab": {
          "base_uri": "https://localhost:8080/"
        },
        "id": "1GOjV-7WXw8T",
        "outputId": "134a9702-86fb-4bb1-9f53-ecff4c676e00"
      },
      "execution_count": null,
      "outputs": [
        {
          "output_type": "stream",
          "name": "stdout",
          "text": [
            "Addition: [5 7 9]\n",
            "Subtraction: [-3 -3 -3]\n",
            "Multiplication: [ 4 10 18]\n",
            "Division: [0.25 0.4  0.5 ]\n",
            "Multiply by 2: [2 4 6]\n",
            "Add 5: [6 7 8]\n"
          ]
        }
      ]
    },
    {
      "cell_type": "markdown",
      "source": [
        "##Broadcasting\n",
        "NumPy automatically \"stretches\" smaller arrays to perform operations with larger ones (as long as they are compatible)."
      ],
      "metadata": {
        "id": "wo6_oN5WYMkx"
      }
    },
    {
      "cell_type": "code",
      "source": [
        "arr = np.array([1, 2, 3])\n",
        "\n",
        "matrix = np.array([[100], [200], [300]])\n",
        "\n",
        "# Broadcasting: Adds [1, 2, 3] to each row of the matrix\n",
        "result = matrix + arr\n",
        "print(\"Broadcasting Result:\\n\", result)\n",
        "\n",
        "arr = np.array([1])\n",
        "result = matrix + arr\n",
        "print(\"Broadcasting Result:\\n\", result)"
      ],
      "metadata": {
        "colab": {
          "base_uri": "https://localhost:8080/"
        },
        "id": "ChcrlW51Xw48",
        "outputId": "acb9c89f-b827-4d89-b0e3-fc0438f25dd7"
      },
      "execution_count": null,
      "outputs": [
        {
          "output_type": "stream",
          "name": "stdout",
          "text": [
            "Broadcasting Result:\n",
            " [[101 102 103]\n",
            " [201 202 203]\n",
            " [301 302 303]]\n",
            "Broadcasting Result:\n",
            " [[101]\n",
            " [201]\n",
            " [301]]\n"
          ]
        }
      ]
    },
    {
      "cell_type": "markdown",
      "source": [
        "##Aggregate Functions\n",
        "Aggregate functions compute a single value from all elements of an array.\n",
        "\n"
      ],
      "metadata": {
        "id": "Anw5NHfHZLxg"
      }
    },
    {
      "cell_type": "code",
      "source": [
        "arr = np.array([1, 2, 3, 4, 5])\n",
        "\n",
        "print(\"Sum:\", np.sum(arr))\n",
        "print(\"Mean:\", np.mean(arr))\n",
        "print(\"Max:\", np.max(arr))\n",
        "print(\"Min:\", np.min(arr))\n",
        "print(\"Standard Deviation:\", np.std(arr))\n",
        "print(\"Variance:\", np.var(arr))\n"
      ],
      "metadata": {
        "colab": {
          "base_uri": "https://localhost:8080/"
        },
        "id": "YFElYPuUZOux",
        "outputId": "3a29739d-d0bb-421f-b5d6-6225c68dbeb0"
      },
      "execution_count": null,
      "outputs": [
        {
          "output_type": "stream",
          "name": "stdout",
          "text": [
            "Sum: 15\n",
            "Mean: 3.0\n",
            "Max: 5\n",
            "Min: 1\n",
            "Standard Deviation: 1.4142135623730951\n",
            "Variance: 2.0\n"
          ]
        }
      ]
    },
    {
      "cell_type": "markdown",
      "source": [
        "Aggregates Along an Axis\n",
        "\n",
        "\n",
        "For multidimensional arrays, you can specify an axis:\n"
      ],
      "metadata": {
        "id": "V_AG_z_MZezC"
      }
    },
    {
      "cell_type": "code",
      "source": [
        "matrix = np.array([[[1], [2], [3]], [[4], [5], [6]]])\n",
        "print(matrix)\n",
        "print(\"Sum (columns):\", np.sum(matrix, axis=0))  # Sum along columns\n",
        "print(\"Sum (rows):\", np.sum(matrix, axis=1))    # Sum along rows"
      ],
      "metadata": {
        "colab": {
          "base_uri": "https://localhost:8080/"
        },
        "id": "0ys0n1iDZbio",
        "outputId": "6c2dcc50-3972-47c0-a62c-ba00da0f0286"
      },
      "execution_count": null,
      "outputs": [
        {
          "output_type": "stream",
          "name": "stdout",
          "text": [
            "[[[1]\n",
            "  [2]\n",
            "  [3]]\n",
            "\n",
            " [[4]\n",
            "  [5]\n",
            "  [6]]]\n",
            "Sum (columns): [[5]\n",
            " [7]\n",
            " [9]]\n",
            "Sum (rows): [[ 6]\n",
            " [15]]\n"
          ]
        }
      ]
    },
    {
      "cell_type": "code",
      "source": [
        "arr = np.array([0, 1, 2, 3])\n",
        "\n",
        "print(\"Square root:\", np.sqrt(arr))\n",
        "print(\"Exponential:\", np.exp(arr))\n",
        "print(\"Logarithm:\", np.log(arr + 1))  # Adding 1 to avoid log(0)\n",
        "print(\"Sine:\", np.sin(arr))\n",
        "print(\"Cosine:\", np.cos(arr))\n"
      ],
      "metadata": {
        "colab": {
          "base_uri": "https://localhost:8080/"
        },
        "id": "DswgWEOJaob9",
        "outputId": "7ac20d04-7037-4b17-f86b-073bf54c00cc"
      },
      "execution_count": null,
      "outputs": [
        {
          "output_type": "stream",
          "name": "stdout",
          "text": [
            "Square root: [0.         1.         1.41421356 1.73205081]\n",
            "Exponential: [ 1.          2.71828183  7.3890561  20.08553692]\n",
            "Logarithm: [0.         0.69314718 1.09861229 1.38629436]\n",
            "Sine: [0.         0.84147098 0.90929743 0.14112001]\n",
            "Cosine: [ 1.          0.54030231 -0.41614684 -0.9899925 ]\n"
          ]
        }
      ]
    },
    {
      "cell_type": "code",
      "source": [
        "arr = np.array([10, 20, 30])\n",
        "\n",
        "print(\"Greater than 15:\", arr > 15)\n",
        "print(\"Greater than 15:\", arr[arr > 15])\n",
        "\n",
        "print(\"Equal to 20:\", arr == 20)\n"
      ],
      "metadata": {
        "colab": {
          "base_uri": "https://localhost:8080/"
        },
        "id": "MDxImHBzbCEm",
        "outputId": "2d0417d3-366c-4e30-fe79-04dd730646db"
      },
      "execution_count": null,
      "outputs": [
        {
          "output_type": "stream",
          "name": "stdout",
          "text": [
            "Greater than 15: [False  True  True]\n",
            "Greater than 15: [20 30]\n",
            "Equal to 20: [False  True False]\n"
          ]
        }
      ]
    },
    {
      "cell_type": "code",
      "source": [
        "print(\"Any element > 25:\", np.any(arr > 25))  # True if any element satisfies\n",
        "print(\"All elements > 25:\", np.all(arr > 25))  # True if all elements satisfy\n"
      ],
      "metadata": {
        "colab": {
          "base_uri": "https://localhost:8080/"
        },
        "id": "mQMZ7AibbYc1",
        "outputId": "0dc5536e-c4ff-486f-e186-585208ba096a"
      },
      "execution_count": null,
      "outputs": [
        {
          "output_type": "stream",
          "name": "stdout",
          "text": [
            "Any element > 25: True\n",
            "All elements > 25: False\n"
          ]
        }
      ]
    },
    {
      "cell_type": "markdown",
      "source": [
        " **more advanced concepts** and techniques you can explore in NumPy to master its full potential:\n",
        "\n",
        "---\n",
        "\n",
        "### 22. **Structured Arrays**\n",
        "Structured arrays allow you to store heterogeneous data (like rows in a database table).\n",
        "\n",
        "```python\n",
        "data = np.array([(1, 'Alice', 25), (2, 'Bob', 30)],\n",
        "                dtype=[('id', 'i4'), ('name', 'U10'), ('age', 'i4')])\n",
        "\n",
        "print(data['name'])  # ['Alice' 'Bob']\n",
        "print(data[data['age'] > 26])  # Filter rows where age > 26\n",
        "```\n",
        "\n",
        "---\n",
        "\n",
        "### 23. **Fancy Indexing**\n",
        "You can index with arrays of integers to reorder or extract elements.\n"
      ],
      "metadata": {
        "id": "PpkYsEO5Zwvq"
      }
    },
    {
      "cell_type": "code",
      "source": [
        "array = np.array([10, 20, 30, 40, 50])\n",
        "indices = [4, 0, 2]\n",
        "print(array[indices])  # [50, 10, 30]"
      ],
      "metadata": {
        "colab": {
          "base_uri": "https://localhost:8080/"
        },
        "id": "it5hW8dBacOy",
        "outputId": "ab06c23d-761b-4ab0-f56b-ebaa09b162bf"
      },
      "execution_count": 4,
      "outputs": [
        {
          "output_type": "stream",
          "name": "stdout",
          "text": [
            "[50 10 30]\n"
          ]
        }
      ]
    },
    {
      "cell_type": "code",
      "source": [
        "\n",
        "import numpy as np\n",
        "data = np.array([(1, 'Alice', 25), (2, 'Bob', 30)],\n",
        "                dtype=[('id', 'i4'), ('name', 'U10'), ('age', 'i4')])\n",
        "\n",
        "print(data['name'])  # ['Alice' 'Bob']\n",
        "print(data[data['age'] > 26])  # Filter rows where age > 26\n",
        "print(data.dtype)"
      ],
      "metadata": {
        "colab": {
          "base_uri": "https://localhost:8080/"
        },
        "id": "VoOdnsijaqwf",
        "outputId": "09735c77-cfe3-40b8-a8cf-c19f67cd031e"
      },
      "execution_count": 5,
      "outputs": [
        {
          "output_type": "stream",
          "name": "stdout",
          "text": [
            "['Alice' 'Bob']\n",
            "[(2, 'Bob', 30)]\n",
            "[('id', '<i4'), ('name', '<U10'), ('age', '<i4')]\n"
          ]
        }
      ]
    },
    {
      "cell_type": "markdown",
      "source": [
        "\n",
        "You can also use it with 2D arrays:\n",
        "```python\n",
        "array = np.array([[1, 2], [3, 4], [5, 6]])\n",
        "rows = [0, 1, 2]\n",
        "cols = [1, 0, 1]\n",
        "print(array[rows, cols])  # [2, 3, 6]\n",
        "```\n",
        "\n",
        "---\n",
        "\n",
        "### 24. **Memory Management**\n",
        "NumPy provides tools to handle memory usage efficiently.\n",
        "\n",
        "#### Use `astype()` to save memory:\n",
        "```python\n",
        "array = np.array([1.0, 2.0, 3.0], dtype='float64')\n",
        "array = array.astype('float32')  # Reduce precision to save memory\n",
        "print(array.dtype)  # float32\n",
        "```\n",
        "\n",
        "#### Views vs Copies:\n",
        "- **View**: A shallow copy pointing to the same data.\n",
        "- **Copy**: A separate copy of the data.\n",
        "\n",
        "```python\n",
        "a = np.array([1, 2, 3])\n",
        "b = a.view()  # View: changes to b affect a\n",
        "b[0] = 100\n",
        "print(a)  # [100 2 3]\n",
        "\n",
        "c = a.copy()  # Copy: changes to c do not affect a\n",
        "c[0] = 0\n",
        "print(a)  # [100 2 3]\n",
        "```\n",
        "\n",
        "---\n",
        "\n",
        "### 25. **NumPy and Pandas Integration**\n",
        "NumPy arrays work seamlessly with **pandas** for data analysis.\n",
        "\n",
        "```python\n",
        "import pandas as pd\n",
        "\n",
        "data = np.array([[1, 2], [3, 4], [5, 6]])\n",
        "df = pd.DataFrame(data, columns=['Column1', 'Column2'])\n",
        "print(df)\n",
        "```\n",
        "\n",
        "---\n",
        "\n",
        "### 26. **Advanced Random Sampling**\n",
        "You can generate more complex random samples.\n",
        "\n",
        "```python\n",
        "# Set a seed for reproducibility\n",
        "np.random.seed(42)\n",
        "\n",
        "# Random choice with probabilities\n",
        "choices = np.random.choice([1, 2, 3], size=5, p=[0.2, 0.5, 0.3])\n",
        "print(choices)  # Random, but with probabilities\n",
        "```\n",
        "\n",
        "---"
      ],
      "metadata": {
        "id": "_VqipzMSam0E"
      }
    },
    {
      "cell_type": "code",
      "source": [
        "a = np.array([1, 2, 3])\n",
        "b = a.view()  # View: changes to b affect a\n",
        "b[0] = 100\n",
        "print(a)  # [100 2 3]\n",
        "\n",
        "c = a.copy()  # Copy: changes to c do not affect a\n",
        "c[0] = 0\n",
        "print(a)  # [100 2 3]\n",
        "\n",
        "\n",
        "\n",
        "d = a # this works same as view\n",
        "d[0] = 3.14\n",
        "print(a)"
      ],
      "metadata": {
        "colab": {
          "base_uri": "https://localhost:8080/"
        },
        "id": "FMOXQ36Bc9E5",
        "outputId": "6e8034ee-882e-4227-bae3-b0cd5c223016"
      },
      "execution_count": 6,
      "outputs": [
        {
          "output_type": "stream",
          "name": "stdout",
          "text": [
            "[100   2   3]\n",
            "[100   2   3]\n",
            "[3 2 3]\n"
          ]
        }
      ]
    },
    {
      "cell_type": "code",
      "source": [
        "import pandas as pd\n",
        "\n",
        "data = np.array([[1, 2], [3, 4], [5, 6]])\n",
        "df = pd.DataFrame(data, columns=['Column1', 'Column2'])\n",
        "print(df)\n",
        "df = pd.DataFrame(data)\n",
        "print(df)"
      ],
      "metadata": {
        "colab": {
          "base_uri": "https://localhost:8080/"
        },
        "id": "qmGl_ftDdbJe",
        "outputId": "b43a26da-720c-4710-a983-750d2cd3d755"
      },
      "execution_count": 8,
      "outputs": [
        {
          "output_type": "stream",
          "name": "stdout",
          "text": [
            "   Column1  Column2\n",
            "0        1        2\n",
            "1        3        4\n",
            "2        5        6\n",
            "   0  1\n",
            "0  1  2\n",
            "1  3  4\n",
            "2  5  6\n"
          ]
        }
      ]
    },
    {
      "cell_type": "code",
      "source": [
        "# Set a seed for reproducibility\n",
        "np.random.seed(42)\n",
        "\n",
        "# Random choice with probabilities\n",
        "choices = np.random.choice([1, 2, 3], size=5, p=[0.2, 0.5, 0.3])\n",
        "print(choices)  # Random, but with probabilities\n"
      ],
      "metadata": {
        "colab": {
          "base_uri": "https://localhost:8080/"
        },
        "id": "cgdKn2eDd0bQ",
        "outputId": "31a02135-1a57-491c-f8f3-181df5a57618"
      },
      "execution_count": 11,
      "outputs": [
        {
          "output_type": "stream",
          "name": "stdout",
          "text": [
            "[2 3 3 2 1]\n"
          ]
        }
      ]
    },
    {
      "cell_type": "markdown",
      "source": [
        "\n",
        "## OPtimization\n",
        "\n",
        "### 27. **NumPy with Cython for Speed**\n",
        "If you want faster code execution, you can use **Cython** to write C-optimized NumPy code.\n",
        "\n",
        "Example with `%%cython` in Jupyter:\n",
        "```cython\n",
        "import numpy as np\n",
        "cimport numpy as np\n",
        "\n",
        "def add_arrays(np.ndarray[np.float64_t, ndim=1] a,\n",
        "               np.ndarray[np.float64_t, ndim=1] b):\n",
        "    cdef int n = a.shape[0]\n",
        "    cdef np.ndarray[np.float64_t, ndim=1] c = np.empty(n)\n",
        "    for i in range(n):\n",
        "        c[i] = a[i] + b[i]\n",
        "    return c\n",
        "```\n",
        "\n",
        "---\n",
        "\n",
        "### 28. **NumPy with Multi-threading (Numba)**\n",
        "You can use **Numba** to compile Python code into machine code and speed up NumPy operations.\n",
        "\n",
        "```python\n",
        "from numba import jit\n",
        "import numpy as np\n",
        "\n",
        "@jit(nopython=True)\n",
        "def add_arrays(a, b):\n",
        "    return a + b\n",
        "\n",
        "a = np.arange(1e6)\n",
        "b = np.arange(1e6)\n",
        "result = add_arrays(a, b)\n",
        "```\n",
        "\n",
        "Numba is particularly useful for accelerating loops and numerical operations.\n",
        "\n",
        "---\n",
        "\n",
        "### 29. **Sparse Matrices**\n",
        "If your data has many zeros, consider using **scipy.sparse** matrices for memory-efficient storage.\n",
        "\n",
        "```python\n",
        "from scipy import sparse\n",
        "\n",
        "# Create a sparse matrix\n",
        "dense = np.array([[0, 0, 1], [1, 0, 0]])\n",
        "sparse_matrix = sparse.csr_matrix(dense)\n",
        "print(sparse_matrix)\n",
        "\n",
        "# Convert back to dense\n",
        "print(sparse_matrix.toarray())\n",
        "```\n",
        "\n",
        "---\n",
        "\n",
        "### 30. **Profiling NumPy Code**\n",
        "You can profile the execution time of your NumPy code for optimization.\n",
        "\n",
        "```python\n",
        "import time\n",
        "import numpy as np\n",
        "\n",
        "a = np.random.rand(1000000)\n",
        "b = np.random.rand(1000000)\n",
        "\n",
        "start = time.time()\n",
        "result = a + b\n",
        "end = time.time()\n",
        "\n",
        "print(\"Execution Time:\", end - start)\n",
        "```\n",
        "\n",
        "---\n",
        "\n",
        "This concludes some of the **most advanced NumPy concepts**. By mastering these, you'll be well-prepared for tasks in **data science**, **machine learning**, and **high-performance computing**.\n"
      ],
      "metadata": {
        "id": "1jAFolYtf81N"
      }
    },
    {
      "cell_type": "code",
      "source": [
        "!pip install cython"
      ],
      "metadata": {
        "colab": {
          "base_uri": "https://localhost:8080/"
        },
        "id": "fwqsY0QieO03",
        "outputId": "2febbb74-3cdb-46ea-cac9-d1dd136af139"
      },
      "execution_count": 12,
      "outputs": [
        {
          "output_type": "stream",
          "name": "stdout",
          "text": [
            "Requirement already satisfied: cython in /usr/local/lib/python3.10/dist-packages (3.0.11)\n"
          ]
        }
      ]
    },
    {
      "cell_type": "code",
      "source": [
        "import numpy as np\n",
        "cimport numpy as np\n",
        "\n",
        "def add_arrays(np.ndarray[np.float64_t, ndim=1] a,\n",
        "               np.ndarray[np.float64_t, ndim=1] b):\n",
        "    cdef int n = a.shape[0]\n",
        "    cdef np.ndarray[np.float64_t, ndim=1] c = np.empty(n, dtype=np.float64)\n",
        "    for i in range(n):\n",
        "        c[i] = a[i] + b[i]\n",
        "    return c\n"
      ],
      "metadata": {
        "colab": {
          "base_uri": "https://localhost:8080/",
          "height": 109
        },
        "id": "KN4tSRNveIBS",
        "outputId": "7920a405-a89d-4ef4-8c4d-d0a048c10363"
      },
      "execution_count": 22,
      "outputs": [
        {
          "output_type": "error",
          "ename": "SyntaxError",
          "evalue": "invalid syntax (<ipython-input-22-88f593696790>, line 2)",
          "traceback": [
            "\u001b[0;36m  File \u001b[0;32m\"<ipython-input-22-88f593696790>\"\u001b[0;36m, line \u001b[0;32m2\u001b[0m\n\u001b[0;31m    cimport numpy as np\u001b[0m\n\u001b[0m            ^\u001b[0m\n\u001b[0;31mSyntaxError\u001b[0m\u001b[0;31m:\u001b[0m invalid syntax\n"
          ]
        }
      ]
    },
    {
      "cell_type": "code",
      "source": [
        "from scipy import sparse\n",
        "\n",
        "# Create a sparse matrix\n",
        "dense = np.array([[0, 0, 1], [1, 0, 0]])\n",
        "sparse_matrix = sparse.csr_matrix(dense)\n",
        "print(sparse_matrix)\n",
        "\n",
        "# Convert back to dense\n",
        "print(sparse_matrix.toarray())\n"
      ],
      "metadata": {
        "colab": {
          "base_uri": "https://localhost:8080/"
        },
        "id": "IKwLGHgKfal0",
        "outputId": "2e5bd4be-b74e-4bff-8499-a1cb24390943"
      },
      "execution_count": 23,
      "outputs": [
        {
          "output_type": "stream",
          "name": "stdout",
          "text": [
            "  (0, 2)\t1\n",
            "  (1, 0)\t1\n",
            "[[0 0 1]\n",
            " [1 0 0]]\n"
          ]
        }
      ]
    },
    {
      "cell_type": "code",
      "source": [
        "import time\n",
        "import numpy as np\n",
        "\n",
        "a = np.random.rand(1000000)\n",
        "b = np.random.rand(1000000)\n",
        "\n",
        "start = time.time()\n",
        "result = a + b\n",
        "end = time.time()\n",
        "\n",
        "print(\"Execution Time:\", end - start)\n"
      ],
      "metadata": {
        "colab": {
          "base_uri": "https://localhost:8080/"
        },
        "id": "o2UaTyVIgDfY",
        "outputId": "67f5d540-7aae-4c6c-ac68-dad321a3cd94"
      },
      "execution_count": 24,
      "outputs": [
        {
          "output_type": "stream",
          "name": "stdout",
          "text": [
            "Execution Time: 0.010335683822631836\n"
          ]
        }
      ]
    },
    {
      "cell_type": "code",
      "source": [
        "a = list(a)\n",
        "b = list(b)\n",
        "start = time.time()\n",
        "result = [a[i] + b[i] for i in range(len(a))]\n",
        "end = time.time()\n",
        "\n",
        "print(\"Execution Time:\", end - start)"
      ],
      "metadata": {
        "colab": {
          "base_uri": "https://localhost:8080/"
        },
        "id": "1HAJwQlJgHNi",
        "outputId": "8b987f9b-5526-48f4-87ed-5193a10c4953"
      },
      "execution_count": 27,
      "outputs": [
        {
          "output_type": "stream",
          "name": "stdout",
          "text": [
            "Execution Time: 0.1810910701751709\n"
          ]
        }
      ]
    },
    {
      "cell_type": "code",
      "source": [
        "# Question : Create a 3×3 numpy array of all True’s\n",
        "\n",
        "# Solution\n",
        "np.full((3,3), True, dtype=bool)\n",
        "\n",
        "#or\n",
        "np.full((9), True, dtype=bool).reshape(3,3)\n",
        "\n",
        "#or\n",
        "np.ones((3,3), dtype=bool)\n",
        "\n",
        "#or\n",
        "np.ones((9), dtype=bool).reshape(3,3)"
      ],
      "metadata": {
        "id": "irnlAF1lhkxZ"
      },
      "execution_count": null,
      "outputs": []
    }
  ]
}